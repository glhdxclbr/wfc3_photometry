{
 "cells": [
  {
   "cell_type": "markdown",
   "metadata": {},
   "source": [
    "# PSF Photometry using effective PSF models (in python!)"
   ]
  },
  {
   "cell_type": "markdown",
   "metadata": {},
   "source": [
    "We present a software stack for fitting the PSF models developed by J Anderson for HST/WFC3 to perform high precision PSF photometry.  In general, the process is as follows:\n",
    "1. Find and fit stars in each image using the PSF model\n",
    "2. Align the images using the PSF fitted catalogs\n",
    "3. Match the stars and collate/average the measurements into one final catalog.\n",
    "In this notebook, we show a simple workflow for performing these tasks using the psf_tools package.\n",
    "\n"
   ]
  },
  {
   "cell_type": "markdown",
   "metadata": {},
   "source": [
    "### Versions!"
   ]
  },
  {
   "cell_type": "markdown",
   "metadata": {},
   "source": [
    "NOTE: These tools require an installation of astroconda, using python 3.6, and photutils >= 0.7.1.  It also requires astroquery and skimage >=0.15.0"
   ]
  },
  {
   "cell_type": "markdown",
   "metadata": {},
   "source": [
    "# Table of Contents\n",
    "0. [Data Download](#dl)\n",
    "\n",
    "1a. [Fortran Interface](#fortran)\n",
    "\n",
    "1b. [Python Interface](#python)\n",
    "2. [Align Images](#align)\n",
    "3. [Collate/Average Measurements](#average)\n",
    "4. [Results](#results)"
   ]
  },
  {
   "cell_type": "code",
   "execution_count": null,
   "metadata": {},
   "outputs": [],
   "source": [
    "# some parameters we will use consistently\n",
    "hmin = 5\n",
    "fmin = 1000.\n",
    "pmax= 66000."
   ]
  },
  {
   "cell_type": "code",
   "execution_count": null,
   "metadata": {},
   "outputs": [],
   "source": [
    "import glob\n",
    "import matplotlib.pyplot as plt\n",
    "import numpy as np\n",
    "import os\n",
    "\n",
    "from astropy.io import fits\n",
    "from astropy.table import Table\n",
    "from astroquery.mast import Observations\n",
    "\n",
    "from psf_tools import run_hst1pass, run_python_psf_fitting, align_images, make_final_table, \\\n",
    "                    match_final_catalogs, match_to_master_catalog"
   ]
  },
  {
   "cell_type": "code",
   "execution_count": null,
   "metadata": {},
   "outputs": [],
   "source": [
    "import matplotlib as mpl\n",
    "mpl.rcParams['xtick.labelsize'] = 10\n",
    "plt.rcParams.update({'axes.titlesize' : '18',\n",
    "                     'axes.labelsize' : '14',\n",
    "                     'xtick.labelsize' : '14',\n",
    "                     'ytick.labelsize' : '14'})\n",
    "%matplotlib inline"
   ]
  },
  {
   "cell_type": "markdown",
   "metadata": {},
   "source": [
    "# 0. First, download some data\n",
    "<a id=\"dl\">"
   ]
  },
  {
   "cell_type": "markdown",
   "metadata": {},
   "source": [
    "Let's download some data from the outer regions of Omega Cen to start.  We will use images in 2 filters, 2 epochs each."
   ]
  },
  {
   "cell_type": "code",
   "execution_count": null,
   "metadata": {},
   "outputs": [],
   "source": [
    "obsTable = Observations.query_criteria(project='HST',proposal_id='14118', obs_id='ICTJ4[5678]*', obstype='all')\n",
    "products = Observations.get_product_list(obsTable)\n",
    "filtered_products = Observations.filter_products(products,mrp_only=False, productSubGroupDescription='FLC')\n",
    "dl_tbl = Observations.download_products(filtered_products,mrp_only=False)\n",
    "files = []\n",
    "for f in dl_tbl['Local Path']:\n",
    "    filename = os.path.split(f)[-1]\n",
    "    files.append(filename)\n",
    "    if not os.path.exists(filename):\n",
    "        shutil.move(f, '.')\n"
   ]
  },
  {
   "cell_type": "markdown",
   "metadata": {},
   "source": [
    "### Multiple filters in downloaded data, only look at/fit one band at a time"
   ]
  },
  {
   "cell_type": "code",
   "execution_count": null,
   "metadata": {},
   "outputs": [],
   "source": [
    "input_images =[im for im in  sorted(files) if fits.getval(im, 'FILTER')== 'F814W']"
   ]
  },
  {
   "cell_type": "markdown",
   "metadata": {},
   "source": [
    "### Lets fit just the longer exposures in this example"
   ]
  },
  {
   "cell_type": "code",
   "execution_count": null,
   "metadata": {},
   "outputs": [],
   "source": [
    "input_images = [im for im in input_images if fits.getval(im, 'EXPTIME') > 200.]"
   ]
  },
  {
   "cell_type": "code",
   "execution_count": null,
   "metadata": {},
   "outputs": [],
   "source": [
    "for im in input_images:\n",
    "    print(im, fits.getval(im, 'exptime'), fits.getval(im, 'date-obs'), fits.getval(im, 'filter'))"
   ]
  },
  {
   "cell_type": "markdown",
   "metadata": {},
   "source": [
    "# 1a. Fortran Interface<a id=\"fortran\"></a>"
   ]
  },
  {
   "cell_type": "markdown",
   "metadata": {},
   "source": [
    "### See input options:"
   ]
  },
  {
   "cell_type": "code",
   "execution_count": null,
   "metadata": {},
   "outputs": [],
   "source": [
    "run_hst1pass?"
   ]
  },
  {
   "cell_type": "markdown",
   "metadata": {},
   "source": [
    "In general, the default parameters passed are suitable for most use cases.  The only parameters that would be recommeneded to edit would be `fmin`, `pmax`, and `hmin`.  There are also extra keyword arguments that can be passed to the call, but support for those parameters is not guaranteed."
   ]
  },
  {
   "cell_type": "markdown",
   "metadata": {},
   "source": [
    "To see other keyword arguments, run the fortran executable with no arguments"
   ]
  },
  {
   "cell_type": "code",
   "execution_count": null,
   "metadata": {},
   "outputs": [],
   "source": [
    "import psf_tools\n",
    "print(psf_tools.PSFPhot._get_exec_path())"
   ]
  },
  {
   "cell_type": "markdown",
   "metadata": {},
   "source": [
    "Replace the path below with whatever was output above"
   ]
  },
  {
   "cell_type": "code",
   "execution_count": null,
   "metadata": {},
   "outputs": [],
   "source": [
    "! /Users/vbajaj/Documents/wfc3_photometry/wfc3_photometry/psf_tools/hst1pass_darwin.e"
   ]
  },
  {
   "cell_type": "markdown",
   "metadata": {},
   "source": [
    "### Run the PSF photometry"
   ]
  },
  {
   "cell_type": "markdown",
   "metadata": {},
   "source": [
    "The executable is ran in the following cell using the Fortran engine.  Supplying `focus=-1` parameter tells the software to determine and use the focus dependent PSF library.  If not supplied then the standard (spatially dependent, but non focus dependent PSFs are used."
   ]
  },
  {
   "cell_type": "code",
   "execution_count": null,
   "metadata": {
    "scrolled": true
   },
   "outputs": [],
   "source": [
    "catalogs = run_hst1pass(input_images=input_images, hmin=hmin, fmin=fmin, pmax=pmax)"
   ]
  },
  {
   "cell_type": "markdown",
   "metadata": {},
   "source": [
    "### See the output catalogs"
   ]
  },
  {
   "cell_type": "code",
   "execution_count": null,
   "metadata": {},
   "outputs": [],
   "source": [
    "# If you already have the output catalogs, and dont want to rerun hst1pass\n",
    "catalogs = [im.replace('.fits', '.xympqks') for im in input_images]"
   ]
  },
  {
   "cell_type": "code",
   "execution_count": null,
   "metadata": {},
   "outputs": [],
   "source": [
    "catalogs"
   ]
  },
  {
   "cell_type": "markdown",
   "metadata": {},
   "source": [
    "If ran with the flag `focus = -1` (uses focus dependent PSF) focus of image can be output"
   ]
  },
  {
   "cell_type": "code",
   "execution_count": null,
   "metadata": {},
   "outputs": [],
   "source": [
    "from psf_tools.PSFPhot import check_focus"
   ]
  },
  {
   "cell_type": "code",
   "execution_count": null,
   "metadata": {},
   "outputs": [],
   "source": [
    "check_focus(catalogs)"
   ]
  },
  {
   "cell_type": "code",
   "execution_count": null,
   "metadata": {},
   "outputs": [],
   "source": [
    "output_catalogs = []\n",
    "for im in input_images:\n",
    "    cat_str = im.replace('.fits', '_sci?_xyrd.cat')\n",
    "    output_catalogs += glob.glob(cat_str)\n",
    "output_catalogs = sorted(output_catalogs)"
   ]
  },
  {
   "cell_type": "markdown",
   "metadata": {},
   "source": [
    "##### The hst1pass files are broken up per chip.  The following catalogs should be used for the exposure level analysis"
   ]
  },
  {
   "cell_type": "code",
   "execution_count": null,
   "metadata": {},
   "outputs": [],
   "source": [
    "output_catalogs"
   ]
  },
  {
   "cell_type": "markdown",
   "metadata": {},
   "source": [
    "# Python interface<a id=\"python\"></a>"
   ]
  },
  {
   "cell_type": "markdown",
   "metadata": {},
   "source": [
    "A fully python based interface is  available for the PSF fitting.  The python interface has a pared down feature set, and does not yet support the focus based PSFs (coming soon!), and runs slower, but has a more familiar usage compared to the Fortran interface.   The fortran interface can also much more reliably measure UVIS saturated stars, whereas the Python interface cannot. The output `xyrd` catalogs are the same as the fortran, and so either interface can be selected for use for the initial fittings, and then the following alignment/collating steps are the same."
   ]
  },
  {
   "cell_type": "markdown",
   "metadata": {},
   "source": [
    "### Look at inputs"
   ]
  },
  {
   "cell_type": "code",
   "execution_count": null,
   "metadata": {},
   "outputs": [],
   "source": [
    "run_python_psf_fitting?"
   ]
  },
  {
   "cell_type": "markdown",
   "metadata": {},
   "source": [
    "In general, the parameters to the python interface are very similar.  More of the keyword arguments are specified directly (qmax, cmin, cmax), and have docstrings specifying their use.  You can also specify the number of CPUs to distribute the fitting across, which subtrantially improves performance when > 1 (default is to use all CPUs).  "
   ]
  },
  {
   "cell_type": "markdown",
   "metadata": {},
   "source": [
    "### Run the python fitting"
   ]
  },
  {
   "cell_type": "code",
   "execution_count": null,
   "metadata": {},
   "outputs": [],
   "source": [
    "run_python_psf_fitting(input_images, hmin=hmin, fmin=fmin, pmax=pmax)"
   ]
  },
  {
   "cell_type": "markdown",
   "metadata": {},
   "source": [
    "### Look at one of the xyrd catalogs"
   ]
  },
  {
   "cell_type": "markdown",
   "metadata": {},
   "source": [
    "The xyrd catalogs contain the outputs from the fitting.  Depending on what was selected in the fitting parameters, the number of columns may vary.  However, the important columns are:\n",
    "\n",
    "`x`, `y`: The pixel positions of the source measured (1-indexed)\n",
    "\n",
    "`r`, `d`: The decimal degree RA and Dec of the source measured\n",
    "\n",
    "`m`: The instrumental magnitude of the fitted PSF (`-2.5 * np.log10(flux [electrons])`)\n",
    "\n",
    "`q`: The fit quality (see docstring of `run_python_psf_fitting()` for more info)"
   ]
  },
  {
   "cell_type": "code",
   "execution_count": null,
   "metadata": {},
   "outputs": [],
   "source": []
  },
  {
   "cell_type": "code",
   "execution_count": null,
   "metadata": {},
   "outputs": [],
   "source": [
    "Table.read(output_catalogs[0], format='ascii.commented_header')"
   ]
  },
  {
   "cell_type": "markdown",
   "metadata": {},
   "source": [
    "# 2. Align the images <a id=\"align\"></a>"
   ]
  },
  {
   "cell_type": "markdown",
   "metadata": {},
   "source": [
    "With the image based catalogs, we can now align them using the accurate positions from the PSF fitting steps.  The alignment not only removes pointing error between images, but also makes the images/catalogs useful for astrometric studies.  This step also corrects the RAs/Decs in the catalogs with the updated values resulting from the alignment.  Furthermore, aligning the images is crucial for tbe final matching/averaging step."
   ]
  },
  {
   "cell_type": "markdown",
   "metadata": {},
   "source": [
    "### See options for aligning the images using the catalogs from previous step"
   ]
  },
  {
   "cell_type": "code",
   "execution_count": null,
   "metadata": {},
   "outputs": [],
   "source": [
    "align_images?"
   ]
  },
  {
   "cell_type": "markdown",
   "metadata": {},
   "source": [
    "Setting `gaia=True` will automatically download and align the catalogs to Gaia DR2 (no proper motions added due to low precision of Gaia proper motions).  This yields high accuracy absolute astrometric measurements!"
   ]
  },
  {
   "cell_type": "code",
   "execution_count": null,
   "metadata": {
    "scrolled": true
   },
   "outputs": [],
   "source": [
    "align_images(input_images, searchrad=.6, gaia=True)\n"
   ]
  },
  {
   "cell_type": "markdown",
   "metadata": {},
   "source": [
    "### Can also run with any arguments passed to TweakReg\n"
   ]
  },
  {
   "cell_type": "code",
   "execution_count": null,
   "metadata": {},
   "outputs": [],
   "source": [
    "align_images(input_images, searchrad=.1, gaia=True, fluxcol=5, maxflux=-14., minflux=-11., fluxunits='mag')"
   ]
  },
  {
   "cell_type": "markdown",
   "metadata": {},
   "source": [
    "#### Can look at shift file, saved as shifts.txt"
   ]
  },
  {
   "cell_type": "markdown",
   "metadata": {},
   "source": [
    "The columns here are `xshift`, `yshift` (pixels), `rotation` (deg), `scale`, `xrms`, and `yrms`(pixels)"
   ]
  },
  {
   "cell_type": "code",
   "execution_count": null,
   "metadata": {},
   "outputs": [],
   "source": [
    "cat shifts.txt"
   ]
  },
  {
   "cell_type": "markdown",
   "metadata": {},
   "source": [
    "Aligning to gaia may result in slightly higher RMS values than aligning relatively (`gaia=False` and  `reference_catalog=None`) due to proper motions/inaccuracies in the gaia catalog."
   ]
  },
  {
   "cell_type": "code",
   "execution_count": null,
   "metadata": {},
   "outputs": [],
   "source": [
    "align_images(input_images, searchrad=.1, fluxcol=5, maxflux=-14., minflux=-11., fluxunits='mag')"
   ]
  },
  {
   "cell_type": "code",
   "execution_count": null,
   "metadata": {},
   "outputs": [],
   "source": [
    "cat shifts.txt"
   ]
  },
  {
   "cell_type": "markdown",
   "metadata": {},
   "source": [
    "# 3 Match/Average the catalogs into final catalog<a id=\"average\"></a>"
   ]
  },
  {
   "cell_type": "markdown",
   "metadata": {},
   "source": [
    "The final step takes the astrometrically corrected images/catalogs, and matches common stars between them, averaging those measurements into one final catalog as well as providing errors on each of those measurements, while clipping erroneous values.  It also flux calibrates (applies aperture, pixel area map, and zerpoint correction) the magnitudes, to make them ready for science!  This software also has the ability to produce a simple drizzled image of the input images, as to have a corresponding data file"
   ]
  },
  {
   "cell_type": "markdown",
   "metadata": {},
   "source": [
    "### See options for final collation of the table"
   ]
  },
  {
   "cell_type": "code",
   "execution_count": null,
   "metadata": {},
   "outputs": [],
   "source": [
    "make_final_table?"
   ]
  },
  {
   "cell_type": "code",
   "execution_count": null,
   "metadata": {},
   "outputs": [],
   "source": [
    "tbl_i = make_final_table(input_images, min_detections=3)"
   ]
  },
  {
   "cell_type": "code",
   "execution_count": null,
   "metadata": {},
   "outputs": [],
   "source": [
    "tbl_i"
   ]
  },
  {
   "cell_type": "markdown",
   "metadata": {},
   "source": [
    "# 4. See the results!<a id=\"results\"></a>\n",
    "The columns are mbar, rbar, dbar, qbar, xbar, and ybar which are mean magnitude (instrumental), RA, Dec, Q (fit quality), X position in the output frame, and Y position in the output frame.  The columns ending in 'std' are the standard deviations of the values.  The column 'n' is the number of times that source was detected (and not clipped out from the averaging).  The column `n_expected` is the number of images that covered that sky position, and thus the total number of times that star could have been detected by the input images."
   ]
  },
  {
   "cell_type": "markdown",
   "metadata": {},
   "source": [
    "### To access a column from the table, the syntax is `tbl[<colname>]` as seen below"
   ]
  },
  {
   "cell_type": "code",
   "execution_count": null,
   "metadata": {},
   "outputs": [],
   "source": [
    "fig = plt.figure(figsize=(10,10))\n",
    "plt.scatter(tbl_i['rbar'], tbl_i['dbar'], c=tbl_i['mbar'], s = 8, alpha=.3)\n",
    "plt.xlim(plt.xlim()[::-1]) # reverse x axis for RA\n",
    "plt.colorbar()"
   ]
  },
  {
   "cell_type": "code",
   "execution_count": null,
   "metadata": {},
   "outputs": [],
   "source": [
    "fig = plt.figure(figsize=(10,10))\n",
    "plt.scatter(tbl_i['mbar'], tbl_i['mstd'], c=tbl_i['qbar'], s = 8, alpha=.3, vmin=0., vmax=.1, cmap='viridis')\n",
    "plt.ylim(-.0,.1)"
   ]
  },
  {
   "cell_type": "code",
   "execution_count": null,
   "metadata": {},
   "outputs": [],
   "source": [
    "fig = plt.figure(figsize=(10,10))\n",
    "plt.scatter(tbl_i['xstd'], tbl_i['ystd'], s = 12, alpha=.5, c=tbl_i['mbar'], cmap='viridis')\n",
    "plt.xlim(0.0001, 1)\n",
    "plt.ylim(0.0001, 1)\n",
    "plt.xscale('log')\n",
    "plt.yscale('log')\n",
    "plt.xlabel('xstd')\n",
    "plt.ylabel('ystd')\n",
    "plt.colorbar()"
   ]
  },
  {
   "cell_type": "code",
   "execution_count": null,
   "metadata": {},
   "outputs": [],
   "source": [
    "# stat, bedges, bn = binned_statistic(tbl['mbar'], tbl['xstd'],statistic=np.nanmedian, bins=20)\n",
    "fig = plt.figure(figsize=(10,10))\n",
    "plt.scatter(tbl_i['mbar'], tbl_i['xstd'], s=6, alpha=.4, c=tbl_i['qbar'], vmin=0, vmax=.2, cmap='viridis')\n",
    "\n",
    "plt.xlabel('$\\overline{m}$')\n",
    "plt.ylabel('x std')\n",
    "plt.grid(ls=':')\n",
    "plt.ylim(-.0,.1)\n",
    "plt.xlim(19, 25)"
   ]
  },
  {
   "cell_type": "markdown",
   "metadata": {},
   "source": [
    "### Tables can be matched as well:"
   ]
  },
  {
   "cell_type": "code",
   "execution_count": null,
   "metadata": {},
   "outputs": [],
   "source": [
    "gaia_tbl = Table.read('gaia.cat', format='ascii.commented_header')\n",
    "gaia_tbl['ra'].name = 'rbar'\n",
    "gaia_tbl['dec'].name = 'dbar'\n",
    "matched_i, matched_gaia = match_final_catalogs(tbl_i, gaia_tbl, max_distance=.04)"
   ]
  },
  {
   "cell_type": "code",
   "execution_count": null,
   "metadata": {},
   "outputs": [],
   "source": [
    "plt.scatter(matched_i['mbar'], (matched_i['rbar'] - matched_gaia['rbar'])*3600., s=4, alpha=.4)\n",
    "plt.xlim(12., 17.)\n",
    "plt.ylim(-.005, .005)\n",
    "plt.ylabel('delta RA [arcsec]')\n",
    "plt.xlabel('mbar')"
   ]
  },
  {
   "cell_type": "code",
   "execution_count": null,
   "metadata": {},
   "outputs": [],
   "source": [
    "plt.scatter(matched_i['mbar'], (matched_i['dbar'] - matched_gaia['dbar'])*3600., s=4, alpha=.4)\n",
    "plt.xlim(12., 17.)\n",
    "plt.ylim(-.005, .005)\n",
    "plt.ylabel('delta DEC [arcsec]')\n",
    "plt.xlabel('mbar')"
   ]
  },
  {
   "cell_type": "markdown",
   "metadata": {},
   "source": [
    "### Match tables from two filters"
   ]
  },
  {
   "cell_type": "markdown",
   "metadata": {},
   "source": [
    "Run the same steps, with the F606W images to get an averaged catalog of those files.  Then we can match the F814W and F606W tables and make a simple CMD"
   ]
  },
  {
   "cell_type": "code",
   "execution_count": null,
   "metadata": {},
   "outputs": [],
   "source": [
    "v_images =  [im for im in files if fits.getval(im, 'FILTER')=='F606W']\n",
    "v_images =  [im for im in v_images if fits.getval(im, 'EXPTIME')>200]\n",
    "run_hst1pass(v_images, hmin=hmin, fmin=fmin, pmax=pmax)\n",
    "align_images(v_images, searchrad=1., gaia=True)\n",
    "tbl_v = make_final_table(v_images, min_detections=3)"
   ]
  },
  {
   "cell_type": "code",
   "execution_count": null,
   "metadata": {},
   "outputs": [],
   "source": [
    "matched_i, matched_v = match_final_catalogs(tbl_i, tbl_v)"
   ]
  },
  {
   "cell_type": "code",
   "execution_count": null,
   "metadata": {},
   "outputs": [],
   "source": [
    "fig = plt.figure(figsize=(10,10))\n",
    "plt.scatter(matched_v['mbar'] - matched_i['mbar'], matched_v['mbar'], s=3, alpha=.3)\n",
    "plt.ylim(plt.ylim()[::-1])\n",
    "plt.xlabel('V - I [mag]')\n",
    "plt.ylabel('V [mag]')\n",
    "plt.title('Color Magnitude Diagram')"
   ]
  },
  {
   "cell_type": "code",
   "execution_count": null,
   "metadata": {},
   "outputs": [],
   "source": []
  }
 ],
 "metadata": {
  "kernelspec": {
   "display_name": "Python 3",
   "language": "python",
   "name": "python3"
  },
  "language_info": {
   "codemirror_mode": {
    "name": "ipython",
    "version": 3
   },
   "file_extension": ".py",
   "mimetype": "text/x-python",
   "name": "python",
   "nbconvert_exporter": "python",
   "pygments_lexer": "ipython3",
   "version": "3.6.9"
  }
 },
 "nbformat": 4,
 "nbformat_minor": 2
}
